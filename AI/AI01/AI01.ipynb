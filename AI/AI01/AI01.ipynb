{
  "nbformat": 4,
  "nbformat_minor": 2,
  "metadata": {
    "colab": {
      "name": "AI01.ipynb",
      "private_outputs": true,
      "provenance": [],
      "collapsed_sections": []
    },
    "kernelspec": {
      "name": "python3",
      "display_name": "Python 3"
    },
    "language_info": {
      "name": "python"
    },
    "accelerator": "GPU"
  },
  "cells": [
    {
      "cell_type": "markdown",
      "source": [
        "# Setup\n"
      ],
      "metadata": {
        "id": "twlX_dgeBkLs"
      }
    },
    {
      "cell_type": "code",
      "execution_count": null,
      "source": [
        "%cd /content\n",
        "!rm -rf A5-Courses/\n",
        "!git clone https://github.com/dimitrivinet/A5-Courses\n",
        "!mkdir -p A5-Courses/AI/AI01/output\n",
        "%cd A5-Courses/AI/AI01/src"
      ],
      "outputs": [],
      "metadata": {
        "id": "c9BjHtbumz4V"
      }
    },
    {
      "cell_type": "code",
      "execution_count": null,
      "source": [
        "!pip3 install efficientnet-pytorch"
      ],
      "outputs": [],
      "metadata": {
        "id": "V7mglpei7MpG"
      }
    },
    {
      "cell_type": "markdown",
      "source": [
        "Check torch, torchvision and CUDA\n"
      ],
      "metadata": {
        "id": "efAJ_TN3BgeX"
      }
    },
    {
      "cell_type": "code",
      "execution_count": null,
      "source": [
        "import torch\n",
        "import torchvision\n",
        "torch.cuda.is_available()"
      ],
      "outputs": [],
      "metadata": {
        "id": "yBaSv4r0w38f"
      }
    },
    {
      "cell_type": "markdown",
      "source": [
        "# Code"
      ],
      "metadata": {
        "id": "PU5ky4ADBqK0"
      }
    },
    {
      "cell_type": "code",
      "execution_count": null,
      "source": [
        "import torch\n",
        "from torch.utils.data.dataloader import DataLoader\n",
        "from torchvision.datasets.cifar import CIFAR10\n",
        "from torchvision.datasets.mnist import MNIST\n",
        "\n",
        "import modules.models\n",
        "import modules.train\n",
        "from modules.data import PIL_to_tensor, CIFAR_transform, TrainingData"
      ],
      "outputs": [],
      "metadata": {
        "id": "cIH0LvRcBurI"
      }
    },
    {
      "cell_type": "code",
      "execution_count": null,
      "source": [
        "N_CLASSES = 10\n",
        "DATASET_DIR = \"../dataset\"\n",
        "SAVE_PATH = \"../output\"\n",
        "NUM_EPOCHS = 100\n",
        "SAVE_ALL = False\n",
        "DEVICE = \"cuda:0\"\n",
        "# DEVICE=\"cpu\""
      ],
      "outputs": [],
      "metadata": {
        "id": "run9ctuIBv5a"
      }
    },
    {
      "cell_type": "code",
      "execution_count": null,
      "source": [
        "# model = modules.models.MLP(N_CLASSES)\n",
        "# model = modules.models.LeNet5(N_CLASSES)\n",
        "# model = modules.models.VGG16(N_CLASSES)\n",
        "# model = modules.models.ResNet15(N_CLASSES)\n",
        "model = model = EfficientNet.from_pretrained('efficientnet-b1', num_classes=N_CLASSES)"
      ],
      "outputs": [],
      "metadata": {
        "id": "_4OJcrpgBxg-"
      }
    },
    {
      "cell_type": "code",
      "execution_count": null,
      "source": [
        "trainset_MNIST = MNIST(\n",
        "    root=DATASET_DIR,\n",
        "    train=True,\n",
        "    transform=PIL_to_tensor,\n",
        "    target_transform=None,\n",
        "    download=True\n",
        ")\n",
        "validset_MNIST = MNIST(\n",
        "    root=DATASET_DIR,\n",
        "    train=False,\n",
        "    transform=PIL_to_tensor,\n",
        "    target_transform=None,\n",
        "    download=True\n",
        ")\n",
        "training_data_MNIST = TrainingData(trainset=trainset_MNIST,\n",
        "                                   validset=validset_MNIST,\n",
        "                                   trainloader=DataLoader(\n",
        "                                       trainset_MNIST,\n",
        "                                       batch_size=32,\n",
        "                                       shuffle=True,\n",
        "                                       num_workers=2,\n",
        "                                       pin_memory=True,\n",
        "                                   ),\n",
        "                                   validloader=DataLoader(\n",
        "                                       validset_MNIST,\n",
        "                                       batch_size=32,\n",
        "                                       shuffle=True,\n",
        "                                       num_workers=2,\n",
        "                                       pin_memory=True,\n",
        "                                   ))\n",
        "\n",
        "trainset_CIFAR = CIFAR10(\n",
        "    root=DATASET_DIR,\n",
        "    train=True,\n",
        "    transform=CIFAR_transform,\n",
        "    target_transform=None,\n",
        "    download=True\n",
        ")\n",
        "validset_CIFAR = CIFAR10(\n",
        "    root=DATASET_DIR,\n",
        "    train=False,\n",
        "    transform=CIFAR_transform,\n",
        "    target_transform=None,\n",
        "    download=True\n",
        ")\n",
        "training_data_CIFAR = TrainingData(trainset=trainset_CIFAR,\n",
        "                                    validset=validset_CIFAR,\n",
        "                                    trainloader=DataLoader(\n",
        "                                        trainset_CIFAR,\n",
        "                                        batch_size=32,\n",
        "                                        shuffle=True,\n",
        "                                        num_workers=2,\n",
        "                                        pin_memory=True,\n",
        "                                    ),\n",
        "                                    validloader=DataLoader(\n",
        "                                        validset_CIFAR,\n",
        "                                        batch_size=32,\n",
        "                                        shuffle=True,\n",
        "                                        num_workers=2,\n",
        "                                        pin_memory=True,\n",
        "                                    ))"
      ],
      "outputs": [],
      "metadata": {
        "id": "qBGUFBqwB0es"
      }
    },
    {
      "cell_type": "code",
      "execution_count": null,
      "source": [
        "modules.train.train(model=model,\n",
        "                    # training_data=training_data_MNIST,\n",
        "                    training_data=training_data_CIFAR,\n",
        "                    save_path=SAVE_PATH,\n",
        "                    num_epochs=NUM_EPOCHS,\n",
        "                    save_all=SAVE_ALL,\n",
        "                    device=DEVICE)"
      ],
      "outputs": [],
      "metadata": {
        "id": "vSJkfvUbB4FB"
      }
    },
    {
      "cell_type": "markdown",
      "source": [
        "# Utilities"
      ],
      "metadata": {
        "id": "f7Y_B7ueB8pP"
      }
    },
    {
      "cell_type": "markdown",
      "source": [
        "Test layer output shapes"
      ],
      "metadata": {
        "id": "vn76mNs3B-UL"
      }
    },
    {
      "cell_type": "code",
      "execution_count": null,
      "source": [
        "import torch.nn as nn\n",
        "import torch\n",
        "\n",
        "input = torch.randn(20, 128, 16, 16)\n",
        "\n",
        "# pool of square window of size=3, stride=2\n",
        "m = nn.Conv2d(in_channels=128, out_channels=128, kernel_size=3, padding=1)\n",
        "\n",
        "output = m(input)\n",
        "output.shape"
      ],
      "outputs": [],
      "metadata": {
        "id": "XdmR8euPBpZa"
      }
    }
  ]
}